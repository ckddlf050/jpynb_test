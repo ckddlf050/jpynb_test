{
 "cells": [
  {
   "cell_type": "code",
   "execution_count": 14,
   "id": "6f0a3054-4e86-4945-b70e-4ee4f00bca4f",
   "metadata": {},
   "outputs": [
    {
     "name": "stdout",
     "output_type": "stream",
     "text": [
      "Hello world\n"
     ]
    }
   ],
   "source": [
    "print(\"Hello world\")"
   ]
  },
  {
   "cell_type": "code",
   "execution_count": 20,
   "id": "d64f39f8-d24e-4b3e-aea7-3cc631d1c7d3",
   "metadata": {},
   "outputs": [
    {
     "name": "stdout",
     "output_type": "stream",
     "text": [
      "dsads\n"
     ]
    }
   ],
   "source": [
    "print(\"dsads\")"
   ]
  },
  {
   "cell_type": "code",
   "execution_count": 24,
   "id": "59a4ce97-1119-41a6-b205-3d7957e1e093",
   "metadata": {},
   "outputs": [
    {
     "name": "stdout",
     "output_type": "stream",
     "text": [
      "aaaaa\n"
     ]
    }
   ],
   "source": [
    "print(\"aaaaa\")"
   ]
  },
  {
   "cell_type": "code",
   "execution_count": null,
   "id": "e977f898",
   "metadata": {},
   "outputs": [],
   "source": []
  },
  {
   "cell_type": "code",
   "execution_count": null,
   "id": "61835f76-2615-4457-9197-ac656ab89c52",
   "metadata": {},
   "outputs": [],
   "source": []
  },
  {
   "cell_type": "code",
   "execution_count": null,
   "id": "78e0182a-d9db-4e6c-babd-4566e684f5d1",
   "metadata": {},
   "outputs": [],
   "source": []
  }
 ],
 "metadata": {
  "kernelspec": {
   "display_name": "Python 3 (ipykernel)",
   "language": "python",
   "name": "python3"
  },
  "language_info": {
   "codemirror_mode": {
    "name": "ipython",
    "version": 3
   },
   "file_extension": ".py",
   "mimetype": "text/x-python",
   "name": "python",
   "nbconvert_exporter": "python",
   "pygments_lexer": "ipython3",
   "version": "3.12.7"
  }
 },
 "nbformat": 4,
 "nbformat_minor": 5
}
